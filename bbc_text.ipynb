{
 "cells": [
  {
   "cell_type": "markdown",
   "metadata": {},
   "source": [
    "# BBC News classification problem\n",
    "Our goal is to classify the headline's topic based on the data we have been given. We use the nltk library and any other relevant tools to do this."
   ]
  },
  {
   "cell_type": "code",
   "execution_count": 1,
   "metadata": {},
   "outputs": [],
   "source": [
    "import tensorflow as tf\n",
    "import pandas as pd\n",
    "import nltk\n",
    "from sklearn.metrics import accuracy_score,recall_score,precision_score\n",
    "import matplotlib.pyplot as plt\n",
    "import seaborn as sns"
   ]
  },
  {
   "cell_type": "code",
   "execution_count": 2,
   "metadata": {},
   "outputs": [
    {
     "data": {
      "text/html": [
       "<div>\n",
       "<style scoped>\n",
       "    .dataframe tbody tr th:only-of-type {\n",
       "        vertical-align: middle;\n",
       "    }\n",
       "\n",
       "    .dataframe tbody tr th {\n",
       "        vertical-align: top;\n",
       "    }\n",
       "\n",
       "    .dataframe thead th {\n",
       "        text-align: right;\n",
       "    }\n",
       "</style>\n",
       "<table border=\"1\" class=\"dataframe\">\n",
       "  <thead>\n",
       "    <tr style=\"text-align: right;\">\n",
       "      <th></th>\n",
       "      <th>category</th>\n",
       "      <th>text</th>\n",
       "    </tr>\n",
       "  </thead>\n",
       "  <tbody>\n",
       "    <tr>\n",
       "      <th>0</th>\n",
       "      <td>tech</td>\n",
       "      <td>tv future in the hands of viewers with home th...</td>\n",
       "    </tr>\n",
       "    <tr>\n",
       "      <th>1</th>\n",
       "      <td>business</td>\n",
       "      <td>worldcom boss  left books alone  former worldc...</td>\n",
       "    </tr>\n",
       "    <tr>\n",
       "      <th>2</th>\n",
       "      <td>sport</td>\n",
       "      <td>tigers wary of farrell  gamble  leicester say ...</td>\n",
       "    </tr>\n",
       "    <tr>\n",
       "      <th>3</th>\n",
       "      <td>sport</td>\n",
       "      <td>yeading face newcastle in fa cup premiership s...</td>\n",
       "    </tr>\n",
       "    <tr>\n",
       "      <th>4</th>\n",
       "      <td>entertainment</td>\n",
       "      <td>ocean s twelve raids box office ocean s twelve...</td>\n",
       "    </tr>\n",
       "  </tbody>\n",
       "</table>\n",
       "</div>"
      ],
      "text/plain": [
       "        category                                               text\n",
       "0           tech  tv future in the hands of viewers with home th...\n",
       "1       business  worldcom boss  left books alone  former worldc...\n",
       "2          sport  tigers wary of farrell  gamble  leicester say ...\n",
       "3          sport  yeading face newcastle in fa cup premiership s...\n",
       "4  entertainment  ocean s twelve raids box office ocean s twelve..."
      ]
     },
     "execution_count": 2,
     "metadata": {},
     "output_type": "execute_result"
    }
   ],
   "source": [
    "#read and preview data\n",
    "bbc_data=pd.read_csv('bbc-text-1.csv')\n",
    "bbc_data.head(5)"
   ]
  },
  {
   "cell_type": "markdown",
   "metadata": {},
   "source": [
    "## Exploratory Data Analysis and Visualisation"
   ]
  },
  {
   "cell_type": "code",
   "execution_count": 3,
   "metadata": {},
   "outputs": [
    {
     "data": {
      "text/plain": [
       "Text(0.5, 1.0, 'Categorised articles')"
      ]
     },
     "execution_count": 3,
     "metadata": {},
     "output_type": "execute_result"
    },
    {
     "data": {
      "image/png": "[encoded data removed]",
      "text/plain": [
       "<Figure size 640x480 with 1 Axes>"
      ]
     },
     "metadata": {},
     "output_type": "display_data"
    }
   ],
   "source": [
    "#assess if data is balanced\n",
    "sns.barplot(bbc_data['category'])\n",
    "plt.title('Categorised articles')"
   ]
  },
  {
   "cell_type": "markdown",
   "metadata": {},
   "source": [
    "The data is clearly balanced. This means no further techniques are required to account for the biases in unbalanced data"
   ]
  },
  {
   "cell_type": "markdown",
   "metadata": {},
   "source": [
    "## Data preprocessing\n",
    "We want to reduce noise by removing stopwords and lemmatising the remaining words so when we apply techniques like tfidf, we don't return meaningless classifications."
   ]
  },
  {
   "cell_type": "code",
   "execution_count": 4,
   "metadata": {},
   "outputs": [
    {
     "name": "stderr",
     "output_type": "stream",
     "text": [
      "[nltk_data] Downloading package stopwords to\n",
      "[nltk_data]     /Users/adamchoong/nltk_data...\n",
      "[nltk_data]   Package stopwords is already up-to-date!\n",
      "[nltk_data] Downloading package punkt to\n",
      "[nltk_data]     /Users/adamchoong/nltk_data...\n",
      "[nltk_data]   Package punkt is already up-to-date!\n",
      "[nltk_data] Downloading package punkt_tab to\n",
      "[nltk_data]     /Users/adamchoong/nltk_data...\n",
      "[nltk_data]   Package punkt_tab is already up-to-date!\n"
     ]
    },
    {
     "data": {
      "text/plain": [
       "True"
      ]
     },
     "execution_count": 4,
     "metadata": {},
     "output_type": "execute_result"
    }
   ],
   "source": [
    "from nltk.corpus import stopwords\n",
    "from nltk.tokenize import word_tokenize\n",
    "\n",
    "# Download NLTK stopwords data if not already downloaded\n",
    "nltk.download('stopwords')\n",
    "nltk.download('punkt')\n",
    "nltk.download('punkt_tab')\n"
   ]
  },
  {
   "cell_type": "markdown",
   "metadata": {},
   "source": [
    "### TFIDF preprocessing\n",
    "We find if a causal relation or correlation exists between the results of completing a TFIDF operation on each string and their outcome during training."
   ]
  },
  {
   "cell_type": "code",
   "execution_count": 5,
   "metadata": {},
   "outputs": [
    {
     "data": {
      "text/html": [
       "<div>\n",
       "<style scoped>\n",
       "    .dataframe tbody tr th:only-of-type {\n",
       "        vertical-align: middle;\n",
       "    }\n",
       "\n",
       "    .dataframe tbody tr th {\n",
       "        vertical-align: top;\n",
       "    }\n",
       "\n",
       "    .dataframe thead th {\n",
       "        text-align: right;\n",
       "    }\n",
       "</style>\n",
       "<table border=\"1\" class=\"dataframe\">\n",
       "  <thead>\n",
       "    <tr style=\"text-align: right;\">\n",
       "      <th></th>\n",
       "      <th>able</th>\n",
       "      <th>access</th>\n",
       "      <th>according</th>\n",
       "      <th>action</th>\n",
       "      <th>added</th>\n",
       "      <th>ago</th>\n",
       "      <th>ahead</th>\n",
       "      <th>american</th>\n",
       "      <th>analysts</th>\n",
       "      <th>announced</th>\n",
       "      <th>...</th>\n",
       "      <th>win</th>\n",
       "      <th>winning</th>\n",
       "      <th>won</th>\n",
       "      <th>work</th>\n",
       "      <th>working</th>\n",
       "      <th>world</th>\n",
       "      <th>year</th>\n",
       "      <th>year old</th>\n",
       "      <th>year s</th>\n",
       "      <th>years</th>\n",
       "    </tr>\n",
       "  </thead>\n",
       "  <tbody>\n",
       "    <tr>\n",
       "      <th>0</th>\n",
       "      <td>0.0</td>\n",
       "      <td>0.0</td>\n",
       "      <td>0.047698</td>\n",
       "      <td>0.0</td>\n",
       "      <td>0.038668</td>\n",
       "      <td>0.0000</td>\n",
       "      <td>0.0</td>\n",
       "      <td>0.0</td>\n",
       "      <td>0.000000</td>\n",
       "      <td>0.055418</td>\n",
       "      <td>...</td>\n",
       "      <td>0.000000</td>\n",
       "      <td>0.000000</td>\n",
       "      <td>0.0</td>\n",
       "      <td>0.044812</td>\n",
       "      <td>0.0</td>\n",
       "      <td>0.0</td>\n",
       "      <td>0.000000</td>\n",
       "      <td>0.0</td>\n",
       "      <td>0.0</td>\n",
       "      <td>0.072374</td>\n",
       "    </tr>\n",
       "    <tr>\n",
       "      <th>1</th>\n",
       "      <td>0.0</td>\n",
       "      <td>0.0</td>\n",
       "      <td>0.000000</td>\n",
       "      <td>0.0</td>\n",
       "      <td>0.000000</td>\n",
       "      <td>0.0000</td>\n",
       "      <td>0.0</td>\n",
       "      <td>0.0</td>\n",
       "      <td>0.000000</td>\n",
       "      <td>0.000000</td>\n",
       "      <td>...</td>\n",
       "      <td>0.000000</td>\n",
       "      <td>0.000000</td>\n",
       "      <td>0.0</td>\n",
       "      <td>0.000000</td>\n",
       "      <td>0.0</td>\n",
       "      <td>0.0</td>\n",
       "      <td>0.000000</td>\n",
       "      <td>0.0</td>\n",
       "      <td>0.0</td>\n",
       "      <td>0.000000</td>\n",
       "    </tr>\n",
       "    <tr>\n",
       "      <th>2</th>\n",
       "      <td>0.0</td>\n",
       "      <td>0.0</td>\n",
       "      <td>0.000000</td>\n",
       "      <td>0.0</td>\n",
       "      <td>0.000000</td>\n",
       "      <td>0.1764</td>\n",
       "      <td>0.0</td>\n",
       "      <td>0.0</td>\n",
       "      <td>0.000000</td>\n",
       "      <td>0.000000</td>\n",
       "      <td>...</td>\n",
       "      <td>0.000000</td>\n",
       "      <td>0.000000</td>\n",
       "      <td>0.0</td>\n",
       "      <td>0.000000</td>\n",
       "      <td>0.0</td>\n",
       "      <td>0.0</td>\n",
       "      <td>0.000000</td>\n",
       "      <td>0.0</td>\n",
       "      <td>0.0</td>\n",
       "      <td>0.000000</td>\n",
       "    </tr>\n",
       "    <tr>\n",
       "      <th>3</th>\n",
       "      <td>0.0</td>\n",
       "      <td>0.0</td>\n",
       "      <td>0.000000</td>\n",
       "      <td>0.0</td>\n",
       "      <td>0.000000</td>\n",
       "      <td>0.0000</td>\n",
       "      <td>0.0</td>\n",
       "      <td>0.0</td>\n",
       "      <td>0.000000</td>\n",
       "      <td>0.000000</td>\n",
       "      <td>...</td>\n",
       "      <td>0.089115</td>\n",
       "      <td>0.000000</td>\n",
       "      <td>0.0</td>\n",
       "      <td>0.000000</td>\n",
       "      <td>0.0</td>\n",
       "      <td>0.0</td>\n",
       "      <td>0.000000</td>\n",
       "      <td>0.0</td>\n",
       "      <td>0.0</td>\n",
       "      <td>0.000000</td>\n",
       "    </tr>\n",
       "    <tr>\n",
       "      <th>4</th>\n",
       "      <td>0.0</td>\n",
       "      <td>0.0</td>\n",
       "      <td>0.142547</td>\n",
       "      <td>0.0</td>\n",
       "      <td>0.000000</td>\n",
       "      <td>0.0000</td>\n",
       "      <td>0.0</td>\n",
       "      <td>0.0</td>\n",
       "      <td>0.000000</td>\n",
       "      <td>0.000000</td>\n",
       "      <td>...</td>\n",
       "      <td>0.000000</td>\n",
       "      <td>0.167049</td>\n",
       "      <td>0.0</td>\n",
       "      <td>0.000000</td>\n",
       "      <td>0.0</td>\n",
       "      <td>0.0</td>\n",
       "      <td>0.000000</td>\n",
       "      <td>0.0</td>\n",
       "      <td>0.0</td>\n",
       "      <td>0.000000</td>\n",
       "    </tr>\n",
       "    <tr>\n",
       "      <th>...</th>\n",
       "      <td>...</td>\n",
       "      <td>...</td>\n",
       "      <td>...</td>\n",
       "      <td>...</td>\n",
       "      <td>...</td>\n",
       "      <td>...</td>\n",
       "      <td>...</td>\n",
       "      <td>...</td>\n",
       "      <td>...</td>\n",
       "      <td>...</td>\n",
       "      <td>...</td>\n",
       "      <td>...</td>\n",
       "      <td>...</td>\n",
       "      <td>...</td>\n",
       "      <td>...</td>\n",
       "      <td>...</td>\n",
       "      <td>...</td>\n",
       "      <td>...</td>\n",
       "      <td>...</td>\n",
       "      <td>...</td>\n",
       "      <td>...</td>\n",
       "    </tr>\n",
       "    <tr>\n",
       "      <th>2220</th>\n",
       "      <td>0.0</td>\n",
       "      <td>0.0</td>\n",
       "      <td>0.000000</td>\n",
       "      <td>0.0</td>\n",
       "      <td>0.040458</td>\n",
       "      <td>0.0000</td>\n",
       "      <td>0.0</td>\n",
       "      <td>0.0</td>\n",
       "      <td>0.058233</td>\n",
       "      <td>0.000000</td>\n",
       "      <td>...</td>\n",
       "      <td>0.000000</td>\n",
       "      <td>0.000000</td>\n",
       "      <td>0.0</td>\n",
       "      <td>0.000000</td>\n",
       "      <td>0.0</td>\n",
       "      <td>0.0</td>\n",
       "      <td>0.000000</td>\n",
       "      <td>0.0</td>\n",
       "      <td>0.0</td>\n",
       "      <td>0.000000</td>\n",
       "    </tr>\n",
       "    <tr>\n",
       "      <th>2221</th>\n",
       "      <td>0.0</td>\n",
       "      <td>0.0</td>\n",
       "      <td>0.000000</td>\n",
       "      <td>0.0</td>\n",
       "      <td>0.000000</td>\n",
       "      <td>0.0000</td>\n",
       "      <td>0.0</td>\n",
       "      <td>0.0</td>\n",
       "      <td>0.000000</td>\n",
       "      <td>0.000000</td>\n",
       "      <td>...</td>\n",
       "      <td>0.000000</td>\n",
       "      <td>0.000000</td>\n",
       "      <td>0.0</td>\n",
       "      <td>0.000000</td>\n",
       "      <td>0.0</td>\n",
       "      <td>0.0</td>\n",
       "      <td>0.181444</td>\n",
       "      <td>0.0</td>\n",
       "      <td>0.0</td>\n",
       "      <td>0.000000</td>\n",
       "    </tr>\n",
       "    <tr>\n",
       "      <th>2222</th>\n",
       "      <td>0.0</td>\n",
       "      <td>0.0</td>\n",
       "      <td>0.000000</td>\n",
       "      <td>0.0</td>\n",
       "      <td>0.000000</td>\n",
       "      <td>0.0000</td>\n",
       "      <td>0.0</td>\n",
       "      <td>0.0</td>\n",
       "      <td>0.000000</td>\n",
       "      <td>0.324057</td>\n",
       "      <td>...</td>\n",
       "      <td>0.000000</td>\n",
       "      <td>0.000000</td>\n",
       "      <td>0.0</td>\n",
       "      <td>0.000000</td>\n",
       "      <td>0.0</td>\n",
       "      <td>0.0</td>\n",
       "      <td>0.000000</td>\n",
       "      <td>0.0</td>\n",
       "      <td>0.0</td>\n",
       "      <td>0.000000</td>\n",
       "    </tr>\n",
       "    <tr>\n",
       "      <th>2223</th>\n",
       "      <td>0.0</td>\n",
       "      <td>0.0</td>\n",
       "      <td>0.000000</td>\n",
       "      <td>0.0</td>\n",
       "      <td>0.000000</td>\n",
       "      <td>0.0000</td>\n",
       "      <td>0.0</td>\n",
       "      <td>0.0</td>\n",
       "      <td>0.000000</td>\n",
       "      <td>0.000000</td>\n",
       "      <td>...</td>\n",
       "      <td>0.000000</td>\n",
       "      <td>0.000000</td>\n",
       "      <td>0.0</td>\n",
       "      <td>0.000000</td>\n",
       "      <td>0.0</td>\n",
       "      <td>0.0</td>\n",
       "      <td>0.000000</td>\n",
       "      <td>0.0</td>\n",
       "      <td>0.0</td>\n",
       "      <td>0.000000</td>\n",
       "    </tr>\n",
       "    <tr>\n",
       "      <th>2224</th>\n",
       "      <td>0.0</td>\n",
       "      <td>0.0</td>\n",
       "      <td>0.000000</td>\n",
       "      <td>0.0</td>\n",
       "      <td>0.094845</td>\n",
       "      <td>0.0000</td>\n",
       "      <td>0.0</td>\n",
       "      <td>0.0</td>\n",
       "      <td>0.000000</td>\n",
       "      <td>0.000000</td>\n",
       "      <td>...</td>\n",
       "      <td>0.113189</td>\n",
       "      <td>0.137104</td>\n",
       "      <td>0.0</td>\n",
       "      <td>0.000000</td>\n",
       "      <td>0.0</td>\n",
       "      <td>0.0</td>\n",
       "      <td>0.131291</td>\n",
       "      <td>0.0</td>\n",
       "      <td>0.0</td>\n",
       "      <td>0.000000</td>\n",
       "    </tr>\n",
       "  </tbody>\n",
       "</table>\n",
       "<p>2225 rows × 300 columns</p>\n",
       "</div>"
      ],
      "text/plain": [
       "      able  access  according  action     added     ago  ahead  american  \\\n",
       "0      0.0     0.0   0.047698     0.0  0.038668  0.0000    0.0       0.0   \n",
       "1      0.0     0.0   0.000000     0.0  0.000000  0.0000    0.0       0.0   \n",
       "2      0.0     0.0   0.000000     0.0  0.000000  0.1764    0.0       0.0   \n",
       "3      0.0     0.0   0.000000     0.0  0.000000  0.0000    0.0       0.0   \n",
       "4      0.0     0.0   0.142547     0.0  0.000000  0.0000    0.0       0.0   \n",
       "...    ...     ...        ...     ...       ...     ...    ...       ...   \n",
       "2220   0.0     0.0   0.000000     0.0  0.040458  0.0000    0.0       0.0   \n",
       "2221   0.0     0.0   0.000000     0.0  0.000000  0.0000    0.0       0.0   \n",
       "2222   0.0     0.0   0.000000     0.0  0.000000  0.0000    0.0       0.0   \n",
       "2223   0.0     0.0   0.000000     0.0  0.000000  0.0000    0.0       0.0   \n",
       "2224   0.0     0.0   0.000000     0.0  0.094845  0.0000    0.0       0.0   \n",
       "\n",
       "      analysts  announced  ...       win   winning  won      work  working  \\\n",
       "0     0.000000   0.055418  ...  0.000000  0.000000  0.0  0.044812      0.0   \n",
       "1     0.000000   0.000000  ...  0.000000  0.000000  0.0  0.000000      0.0   \n",
       "2     0.000000   0.000000  ...  0.000000  0.000000  0.0  0.000000      0.0   \n",
       "3     0.000000   0.000000  ...  0.089115  0.000000  0.0  0.000000      0.0   \n",
       "4     0.000000   0.000000  ...  0.000000  0.167049  0.0  0.000000      0.0   \n",
       "...        ...        ...  ...       ...       ...  ...       ...      ...   \n",
       "2220  0.058233   0.000000  ...  0.000000  0.000000  0.0  0.000000      0.0   \n",
       "2221  0.000000   0.000000  ...  0.000000  0.000000  0.0  0.000000      0.0   \n",
       "2222  0.000000   0.324057  ...  0.000000  0.000000  0.0  0.000000      0.0   \n",
       "2223  0.000000   0.000000  ...  0.000000  0.000000  0.0  0.000000      0.0   \n",
       "2224  0.000000   0.000000  ...  0.113189  0.137104  0.0  0.000000      0.0   \n",
       "\n",
       "      world      year  year old  year s     years  \n",
       "0       0.0  0.000000       0.0     0.0  0.072374  \n",
       "1       0.0  0.000000       0.0     0.0  0.000000  \n",
       "2       0.0  0.000000       0.0     0.0  0.000000  \n",
       "3       0.0  0.000000       0.0     0.0  0.000000  \n",
       "4       0.0  0.000000       0.0     0.0  0.000000  \n",
       "...     ...       ...       ...     ...       ...  \n",
       "2220    0.0  0.000000       0.0     0.0  0.000000  \n",
       "2221    0.0  0.181444       0.0     0.0  0.000000  \n",
       "2222    0.0  0.000000       0.0     0.0  0.000000  \n",
       "2223    0.0  0.000000       0.0     0.0  0.000000  \n",
       "2224    0.0  0.131291       0.0     0.0  0.000000  \n",
       "\n",
       "[2225 rows x 300 columns]"
      ]
     },
     "execution_count": 5,
     "metadata": {},
     "output_type": "execute_result"
    }
   ],
   "source": [
    "from sklearn.feature_extraction.text import TfidfVectorizer\n",
    "vectorizer = TfidfVectorizer(\n",
    "    stop_words='english',\n",
    "    token_pattern=r'\\b[a-zA-Z]+\\b',\n",
    "    max_df=0.85,\n",
    "    min_df=0.05,           \n",
    "    max_features=300,\n",
    "    ngram_range=(1, 2)       # Use unigrams and bigrams (1-grams and 2-grams)\n",
    ")\n",
    "tfidf_matrix = vectorizer.fit_transform(bbc_data['text'])\n",
    "tfidf_df = pd.DataFrame(tfidf_matrix.toarray(), columns=vectorizer.get_feature_names_out())\n",
    "tfidf_df"
   ]
  },
  {
   "cell_type": "markdown",
   "metadata": {},
   "source": [
    "## Proposed method: Supervised learning on NLTK\n",
    "We will split the data 70/30. Our feature variable(s) will be the sparse matrix from the tfidf matrix. Since we know the data is sparse, decision trees and other algorithms that are prone to overfitting to noise will not be preferred."
   ]
  },
  {
   "cell_type": "code",
   "execution_count": 6,
   "metadata": {},
   "outputs": [],
   "source": [
    "from sklearn.model_selection import train_test_split\n",
    "X,y=tfidf_df,bbc_data['category']\n",
    "#repeat training and testing for average performance report\n",
    "import numpy as np\n",
    "from sklearn.model_selection import train_test_split\n",
    "from sklearn.metrics import classification_report\n",
    "\n",
    "import numpy as np\n",
    "from sklearn.model_selection import train_test_split\n",
    "from sklearn.metrics import classification_report\n",
    "from sklearn.metrics import confusion_matrix\n",
    "\n",
    "def repeat_training_with_clf_report(model, X, y, n_repeats=10, test_size=0.3, random_states=None, target_names=None):\n",
    "    \"\"\"\n",
    "    Repeats model training and testing, calculates average of all metrics, \n",
    "    and computes per-class accuracy.\n",
    "\n",
    "    Parameters:\n",
    "        model: scikit-learn compatible estimator\n",
    "            The machine learning model to train.\n",
    "        X: array-like or sparse matrix, shape (n_samples, n_features)\n",
    "            Feature matrix.\n",
    "        y: array-like, shape (n_samples,)\n",
    "            Target vector.\n",
    "        n_repeats: int, default=10\n",
    "            Number of repetitions with different train-test splits.\n",
    "        test_size: float, default=0.2\n",
    "            Proportion of the dataset to include in the test split.\n",
    "        random_states: list or None, default=None\n",
    "            List of random states for reproducibility. If None, random states are generated.\n",
    "        target_names: list of str or None, default=None\n",
    "            List of class names for the classification report.\n",
    "\n",
    "    Returns:\n",
    "        avg_report: dict\n",
    "            Classification report containing average metrics across repetitions\n",
    "            including per-class accuracy.\n",
    "    \"\"\"\n",
    "    if random_states is None:\n",
    "        random_states = np.random.randint(0, 10000, size=n_repeats)\n",
    "    \n",
    "    reports = []\n",
    "    \n",
    "    for state in random_states:\n",
    "        # Split the data\n",
    "        X_train, X_test, y_train, y_test = train_test_split(X, y, test_size=test_size, random_state=state)\n",
    "        \n",
    "        # Train the model\n",
    "        model.fit(X_train, y_train)\n",
    "        \n",
    "        # Predict on test data\n",
    "        y_pred = model.predict(X_test)\n",
    "        \n",
    "        # Get classification report as a dictionary\n",
    "        report = classification_report(y_true=y_test, y_pred=y_pred, output_dict=True, target_names=target_names)\n",
    "        reports.append(report)\n",
    "    \n",
    "    # Average the metrics across all iterations\n",
    "    avg_report = {}\n",
    "    for label in reports[0].keys():\n",
    "        if label == \"accuracy\":  # Handle special case for accuracy\n",
    "            continue  # Accuracy won't be averaged like other metrics\n",
    "        avg_report[label] = {}\n",
    "        for metric in reports[0][label].keys():\n",
    "            avg_report[label][metric] = np.mean([rep[label][metric] for rep in reports])\n",
    "      \n",
    "    \n",
    "    return avg_report"
   ]
  },
  {
   "cell_type": "markdown",
   "metadata": {},
   "source": [
    "### Multinomial logistic regression"
   ]
  },
  {
   "cell_type": "code",
   "execution_count": 7,
   "metadata": {},
   "outputs": [
    {
     "data": {
      "text/html": [
       "<div>\n",
       "<style scoped>\n",
       "    .dataframe tbody tr th:only-of-type {\n",
       "        vertical-align: middle;\n",
       "    }\n",
       "\n",
       "    .dataframe tbody tr th {\n",
       "        vertical-align: top;\n",
       "    }\n",
       "\n",
       "    .dataframe thead th {\n",
       "        text-align: right;\n",
       "    }\n",
       "</style>\n",
       "<table border=\"1\" class=\"dataframe\">\n",
       "  <thead>\n",
       "    <tr style=\"text-align: right;\">\n",
       "      <th></th>\n",
       "      <th>precision</th>\n",
       "      <th>recall</th>\n",
       "      <th>f1-score</th>\n",
       "      <th>support</th>\n",
       "    </tr>\n",
       "  </thead>\n",
       "  <tbody>\n",
       "    <tr>\n",
       "      <th>business</th>\n",
       "      <td>0.924932</td>\n",
       "      <td>0.918590</td>\n",
       "      <td>0.921450</td>\n",
       "      <td>98.6</td>\n",
       "    </tr>\n",
       "    <tr>\n",
       "      <th>entertainment</th>\n",
       "      <td>0.934665</td>\n",
       "      <td>0.899777</td>\n",
       "      <td>0.916289</td>\n",
       "      <td>77.2</td>\n",
       "    </tr>\n",
       "    <tr>\n",
       "      <th>politics</th>\n",
       "      <td>0.926888</td>\n",
       "      <td>0.936099</td>\n",
       "      <td>0.930875</td>\n",
       "      <td>83.2</td>\n",
       "    </tr>\n",
       "    <tr>\n",
       "      <th>sport</th>\n",
       "      <td>0.935972</td>\n",
       "      <td>0.985076</td>\n",
       "      <td>0.959665</td>\n",
       "      <td>103.1</td>\n",
       "    </tr>\n",
       "    <tr>\n",
       "      <th>tech</th>\n",
       "      <td>0.930231</td>\n",
       "      <td>0.892932</td>\n",
       "      <td>0.910729</td>\n",
       "      <td>82.9</td>\n",
       "    </tr>\n",
       "    <tr>\n",
       "      <th>macro avg</th>\n",
       "      <td>0.930537</td>\n",
       "      <td>0.926495</td>\n",
       "      <td>0.927801</td>\n",
       "      <td>445.0</td>\n",
       "    </tr>\n",
       "    <tr>\n",
       "      <th>weighted avg</th>\n",
       "      <td>0.930428</td>\n",
       "      <td>0.929663</td>\n",
       "      <td>0.929356</td>\n",
       "      <td>445.0</td>\n",
       "    </tr>\n",
       "  </tbody>\n",
       "</table>\n",
       "</div>"
      ],
      "text/plain": [
       "               precision    recall  f1-score  support\n",
       "business        0.924932  0.918590  0.921450     98.6\n",
       "entertainment   0.934665  0.899777  0.916289     77.2\n",
       "politics        0.926888  0.936099  0.930875     83.2\n",
       "sport           0.935972  0.985076  0.959665    103.1\n",
       "tech            0.930231  0.892932  0.910729     82.9\n",
       "macro avg       0.930537  0.926495  0.927801    445.0\n",
       "weighted avg    0.930428  0.929663  0.929356    445.0"
      ]
     },
     "execution_count": 7,
     "metadata": {},
     "output_type": "execute_result"
    }
   ],
   "source": [
    "from sklearn.linear_model import LogisticRegression\n",
    "\n",
    "\n",
    "log_model = LogisticRegression(\n",
    "    multi_class='multinomial',\n",
    "    solver='saga',\n",
    "    penalty='l1', \n",
    "    C=1.0,         # Regularization strength\n",
    "    max_iter=1000\n",
    ")\n",
    "output=repeat_training_with_clf_report(log_model, X, y, n_repeats=10, test_size=0.2, random_states=None, target_names=None)\n",
    "report_df=pd.DataFrame(output).transpose()\n",
    "report_df"
   ]
  },
  {
   "cell_type": "code",
   "execution_count": 8,
   "metadata": {},
   "outputs": [
    {
     "name": "stdout",
     "output_type": "stream",
     "text": [
      "               precision    recall  f1-score   support\n",
      "\n",
      "     business       0.89      0.91      0.90       164\n",
      "entertainment       0.91      0.95      0.93       113\n",
      "     politics       0.89      0.91      0.90       113\n",
      "        sport       0.96      0.97      0.97       146\n",
      "         tech       0.95      0.86      0.90       132\n",
      "\n",
      "     accuracy                           0.92       668\n",
      "    macro avg       0.92      0.92      0.92       668\n",
      " weighted avg       0.92      0.92      0.92       668\n",
      "\n"
     ]
    },
    {
     "data": {
      "text/plain": [
       "Text(0.5, 1.0, 'Multinomial Logistic Regression confusion matrix')"
      ]
     },
     "execution_count": 8,
     "metadata": {},
     "output_type": "execute_result"
    },
    {
     "data": {
      "image/png": "[encoded data removed]",
      "text/plain": [
       "<Figure size 640x480 with 2 Axes>"
      ]
     },
     "metadata": {},
     "output_type": "display_data"
    }
   ],
   "source": [
    "#plotting confusion matrix for reference\n",
    "X_train,X_test,y_train,y_test=train_test_split(X,y,random_state=42,test_size=0.3)\n",
    "log_model.fit(X_train,y_train)\n",
    "y_pred=log_model.predict(X_test)\n",
    "cnf_mat=confusion_matrix(y_test,y_pred)\n",
    "print(classification_report(y_pred=y_pred,y_true=y_test))\n",
    "sns.heatmap(cnf_mat, annot=True, fmt='d', cmap='Blues', xticklabels=bbc_data['category'].unique(), yticklabels=bbc_data['category'].unique())\n",
    "plt.title('Multinomial Logistic Regression confusion matrix')"
   ]
  },
  {
   "cell_type": "markdown",
   "metadata": {},
   "source": [
    "### SVM classifier"
   ]
  },
  {
   "cell_type": "markdown",
   "metadata": {},
   "source": [
    "Let's see if we can improve our performance further using a linear kernel SVM. We don't want to use any other kernels like rbf because of the sparsity of the data that would make the model sensitive to errors and computationally inefficient."
   ]
  },
  {
   "cell_type": "code",
   "execution_count": 9,
   "metadata": {},
   "outputs": [
    {
     "data": {
      "text/html": [
       "<div>\n",
       "<style scoped>\n",
       "    .dataframe tbody tr th:only-of-type {\n",
       "        vertical-align: middle;\n",
       "    }\n",
       "\n",
       "    .dataframe tbody tr th {\n",
       "        vertical-align: top;\n",
       "    }\n",
       "\n",
       "    .dataframe thead th {\n",
       "        text-align: right;\n",
       "    }\n",
       "</style>\n",
       "<table border=\"1\" class=\"dataframe\">\n",
       "  <thead>\n",
       "    <tr style=\"text-align: right;\">\n",
       "      <th></th>\n",
       "      <th>precision</th>\n",
       "      <th>recall</th>\n",
       "      <th>f1-score</th>\n",
       "      <th>support</th>\n",
       "    </tr>\n",
       "  </thead>\n",
       "  <tbody>\n",
       "    <tr>\n",
       "      <th>business</th>\n",
       "      <td>0.907930</td>\n",
       "      <td>0.926559</td>\n",
       "      <td>0.916688</td>\n",
       "      <td>104.4</td>\n",
       "    </tr>\n",
       "    <tr>\n",
       "      <th>entertainment</th>\n",
       "      <td>0.895406</td>\n",
       "      <td>0.927010</td>\n",
       "      <td>0.910377</td>\n",
       "      <td>77.5</td>\n",
       "    </tr>\n",
       "    <tr>\n",
       "      <th>politics</th>\n",
       "      <td>0.934541</td>\n",
       "      <td>0.930045</td>\n",
       "      <td>0.932136</td>\n",
       "      <td>86.2</td>\n",
       "    </tr>\n",
       "    <tr>\n",
       "      <th>sport</th>\n",
       "      <td>0.971877</td>\n",
       "      <td>0.963580</td>\n",
       "      <td>0.967610</td>\n",
       "      <td>101.5</td>\n",
       "    </tr>\n",
       "    <tr>\n",
       "      <th>tech</th>\n",
       "      <td>0.949376</td>\n",
       "      <td>0.906363</td>\n",
       "      <td>0.926793</td>\n",
       "      <td>75.4</td>\n",
       "    </tr>\n",
       "    <tr>\n",
       "      <th>macro avg</th>\n",
       "      <td>0.931826</td>\n",
       "      <td>0.930711</td>\n",
       "      <td>0.930721</td>\n",
       "      <td>445.0</td>\n",
       "    </tr>\n",
       "    <tr>\n",
       "      <th>weighted avg</th>\n",
       "      <td>0.933453</td>\n",
       "      <td>0.932135</td>\n",
       "      <td>0.932289</td>\n",
       "      <td>445.0</td>\n",
       "    </tr>\n",
       "  </tbody>\n",
       "</table>\n",
       "</div>"
      ],
      "text/plain": [
       "               precision    recall  f1-score  support\n",
       "business        0.907930  0.926559  0.916688    104.4\n",
       "entertainment   0.895406  0.927010  0.910377     77.5\n",
       "politics        0.934541  0.930045  0.932136     86.2\n",
       "sport           0.971877  0.963580  0.967610    101.5\n",
       "tech            0.949376  0.906363  0.926793     75.4\n",
       "macro avg       0.931826  0.930711  0.930721    445.0\n",
       "weighted avg    0.933453  0.932135  0.932289    445.0"
      ]
     },
     "execution_count": 9,
     "metadata": {},
     "output_type": "execute_result"
    }
   ],
   "source": [
    "from sklearn.svm import SVC\n",
    "\n",
    "# Multiclass SVM\n",
    "svm_model = SVC(kernel='linear', decision_function_shape='ovr',C=10)#use linear classifier for spare data\n",
    "\n",
    "output=repeat_training_with_clf_report(svm_model, X, y, n_repeats=10, test_size=0.2, random_states=None, target_names=None)\n",
    "report_df=pd.DataFrame(output).transpose()\n",
    "report_df\n"
   ]
  },
  {
   "cell_type": "code",
   "execution_count": 10,
   "metadata": {},
   "outputs": [
    {
     "name": "stdout",
     "output_type": "stream",
     "text": [
      "               precision    recall  f1-score   support\n",
      "\n",
      "     business       0.93      0.91      0.92       164\n",
      "entertainment       0.90      0.92      0.91       113\n",
      "     politics       0.90      0.94      0.92       113\n",
      "        sport       0.97      0.97      0.97       146\n",
      "         tech       0.96      0.94      0.95       132\n",
      "\n",
      "     accuracy                           0.94       668\n",
      "    macro avg       0.93      0.94      0.93       668\n",
      " weighted avg       0.94      0.94      0.94       668\n",
      "\n"
     ]
    },
    {
     "data": {
      "text/plain": [
       "Text(0.5, 1.0, 'SVM confusion matrix')"
      ]
     },
     "execution_count": 10,
     "metadata": {},
     "output_type": "execute_result"
    },
    {
     "data": {
      "image/png": "[encoded data removed]",
      "text/plain": [
       "<Figure size 640x480 with 2 Axes>"
      ]
     },
     "metadata": {},
     "output_type": "display_data"
    }
   ],
   "source": [
    "#plotting confusion matrix for reference\n",
    "X_train,X_test,y_train,y_test=train_test_split(X,y,random_state=42,test_size=0.3)\n",
    "svm_model.fit(X_train,y_train)\n",
    "y_pred=svm_model.predict(X_test)\n",
    "print(classification_report(y_pred=y_pred,y_true=y_test))\n",
    "cnf_mat=confusion_matrix(y_test,y_pred)\n",
    "sns.heatmap(cnf_mat, annot=True, fmt='d', cmap='Blues', xticklabels=bbc_data['category'].unique(), yticklabels=bbc_data['category'].unique())\n",
    "plt.title('SVM confusion matrix')"
   ]
  },
  {
   "cell_type": "markdown",
   "metadata": {},
   "source": [
    "This model in the given configurations performs slightly better. Let's see if we can improve further by using XGB"
   ]
  },
  {
   "cell_type": "markdown",
   "metadata": {},
   "source": [
    "### XGB Boost"
   ]
  },
  {
   "cell_type": "markdown",
   "metadata": {},
   "source": [
    "We use a final supervised technique. It is a variant of decision trees that performs well on sparse data."
   ]
  },
  {
   "cell_type": "code",
   "execution_count": 13,
   "metadata": {},
   "outputs": [
    {
     "name": "stderr",
     "output_type": "stream",
     "text": [
      "/Users/adamchoong/miniconda3/lib/python3.10/site-packages/xgboost/core.py:617: FutureWarning: Pass `objective` as keyword args.\n",
      "  warnings.warn(msg, FutureWarning)\n"
     ]
    },
    {
     "name": "stdout",
     "output_type": "stream",
     "text": [
      "              precision    recall  f1-score   support\n",
      "\n",
      "           0       0.92      0.92      0.92       164\n",
      "           1       0.95      0.92      0.94       113\n",
      "           2       0.89      0.95      0.92       113\n",
      "           3       0.97      0.99      0.98       146\n",
      "           4       0.96      0.90      0.93       132\n",
      "\n",
      "    accuracy                           0.94       668\n",
      "   macro avg       0.94      0.94      0.94       668\n",
      "weighted avg       0.94      0.94      0.94       668\n",
      "\n"
     ]
    },
    {
     "data": {
      "text/plain": [
       "Text(0.5, 1.0, 'XGB confusion matrix')"
      ]
     },
     "execution_count": 13,
     "metadata": {},
     "output_type": "execute_result"
    },
    {
     "data": {
      "image/png": "[encoded data removed]",
      "text/plain": [
       "<Figure size 640x480 with 2 Axes>"
      ]
     },
     "metadata": {},
     "output_type": "display_data"
    }
   ],
   "source": [
    "import xgboost as xgb\n",
    "from xgboost.sklearn import XGBClassifier\n",
    "from sklearn.preprocessing import LabelEncoder\n",
    "params = {\n",
    "    'objective': 'multi:softmax',  \n",
    "    'num_class': 5, \n",
    "    'max_depth': 5,  \n",
    "    'learning_rate': 0.1,  \n",
    "    'eval_metric': 'mlogloss'  \n",
    "} \n",
    "# Label Encoding for target labels (if y is a string, use LabelEncoder)\n",
    "label_encoder = LabelEncoder()\n",
    "y_encoded = label_encoder.fit_transform(y)\n",
    "X_train, X_test, y_train, y_test = train_test_split(X, y_encoded, test_size=0.3, random_state=42)\n",
    "dtrain = xgb.DMatrix(X_train, label=y_train)\n",
    "dtest = xgb.DMatrix(X_test, label=y_test)\n",
    "xgb_model=XGBClassifier(params)\n",
    "# Train the XGBoost model\n",
    "bst = xgb.train(params, dtrain, num_boost_round=100)\n",
    "\n",
    "# Make predictions on the test set\n",
    "y_pred = bst.predict(dtest)\n",
    "print(classification_report(y_test,y_pred))\n",
    "cnf_mat=confusion_matrix(y_test,y_pred)\n",
    "sns.heatmap(cnf_mat, annot=True, fmt='d', cmap='Blues', xticklabels=bbc_data['category'].unique(), yticklabels=bbc_data['category'].unique())\n",
    "plt.title('XGB confusion matrix')"
   ]
  },
  {
   "cell_type": "markdown",
   "metadata": {},
   "source": [
    "It is possible for each model to achieve similar performances under the same conditions when considering accuracy as the only main metric. We recommend using simple models that are highly interpretable yet high performing. Multinomial logistic regression performs sufficiently but may not meet the desired level of accuracy. Therefore, we recommend SVM as the accurcy is closer to the benchmark 95% and interpretability of the model is maintained."
   ]
  },
  {
   "cell_type": "markdown",
   "metadata": {},
   "source": [
    "## Suggested improvements\n",
    "We can explore a wider scope of models and hyperparameters through cross-validation or using clustering to group similar articles together. However, cross-validation would require additional computational resources and time, and clustering might not be suitable for this specific dataset due to the sparsity of the text data. Clustering is not supervised too, which makes it difficult to assess and compare with other models. "
   ]
  }
 ],
 "metadata": {
  "kernelspec": {
   "display_name": "base",
   "language": "python",
   "name": "python3"
  },
  "language_info": {
   "codemirror_mode": {
    "name": "ipython",
    "version": 3
   },
   "file_extension": ".py",
   "mimetype": "text/x-python",
   "name": "python",
   "nbconvert_exporter": "python",
   "pygments_lexer": "ipython3",
   "version": "3.10.10"
  }
 },
 "nbformat": 4,
 "nbformat_minor": 2
}
